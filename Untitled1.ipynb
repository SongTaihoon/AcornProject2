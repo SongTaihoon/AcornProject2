{
 "cells": [
  {
   "cell_type": "code",
   "execution_count": 1,
   "id": "67a933ac",
   "metadata": {},
   "outputs": [
    {
     "name": "stdout",
     "output_type": "stream",
     "text": [
      "Hello, world!\n"
     ]
    }
   ],
   "source": [
    "print('Hello, world!')"
   ]
  },
  {
   "cell_type": "code",
   "execution_count": 2,
   "id": "a1588eb2",
   "metadata": {},
   "outputs": [
    {
     "name": "stdout",
     "output_type": "stream",
     "text": [
      "Hello\n",
      "1234\n"
     ]
    }
   ],
   "source": [
    "print('Hello'); print('1234')"
   ]
  },
  {
   "cell_type": "code",
   "execution_count": 3,
   "id": "19b77596",
   "metadata": {},
   "outputs": [
    {
     "name": "stdout",
     "output_type": "stream",
     "text": [
      "Hello, world!\n"
     ]
    }
   ],
   "source": [
    "# Hello, world! 출력\n",
    "print('Hello, world!')"
   ]
  },
  {
   "cell_type": "code",
   "execution_count": 4,
   "id": "41837668",
   "metadata": {},
   "outputs": [
    {
     "name": "stdout",
     "output_type": "stream",
     "text": [
      "Hello, world!\n"
     ]
    }
   ],
   "source": [
    "#print('Hello, world!')\n",
    "a = 1+ 2 # 더하기\n",
    "print('Hello, world!') #printf('1234567890')"
   ]
  },
  {
   "cell_type": "code",
   "execution_count": 5,
   "id": "bcd25122",
   "metadata": {},
   "outputs": [
    {
     "name": "stdout",
     "output_type": "stream",
     "text": [
      "Hello, world!\n"
     ]
    }
   ],
   "source": [
    "a = 1+ 2 # 더하기\n",
    "print('Hello, world!') #printf('1234567890')"
   ]
  },
  {
   "cell_type": "code",
   "execution_count": 6,
   "id": "621ebe96",
   "metadata": {},
   "outputs": [],
   "source": [
    "#print('Hello, world!')\n",
    "#print('1234567890')"
   ]
  },
  {
   "cell_type": "code",
   "execution_count": 7,
   "id": "e0640e4a",
   "metadata": {},
   "outputs": [],
   "source": [
    "# 더하기\n",
    "# a = 1 + 2\n",
    "# print('Hello, world!')"
   ]
  },
  {
   "cell_type": "code",
   "execution_count": 8,
   "id": "54f7ff5c",
   "metadata": {},
   "outputs": [],
   "source": [
    "if a == 10:\n",
    "    print('10입니다.') # 들여쓰기 문법 에러"
   ]
  },
  {
   "cell_type": "code",
   "execution_count": 9,
   "id": "20cbd679",
   "metadata": {},
   "outputs": [
    {
     "ename": "IndentationError",
     "evalue": "expected an indented block (3469958868.py, line 2)",
     "output_type": "error",
     "traceback": [
      "\u001b[1;36m  Input \u001b[1;32mIn [9]\u001b[1;36m\u001b[0m\n\u001b[1;33m    print('10입니다.') # 들여쓰기 문법 에러\u001b[0m\n\u001b[1;37m    ^\u001b[0m\n\u001b[1;31mIndentationError\u001b[0m\u001b[1;31m:\u001b[0m expected an indented block\n"
     ]
    }
   ],
   "source": [
    "if a == 10:\n",
    "print('10입니다.') # 들여쓰기 문법 에러"
   ]
  },
  {
   "cell_type": "code",
   "execution_count": 10,
   "id": "d1e3228a",
   "metadata": {},
   "outputs": [
    {
     "data": {
      "text/plain": [
       "2"
      ]
     },
     "execution_count": 10,
     "metadata": {},
     "output_type": "execute_result"
    }
   ],
   "source": [
    "1+1"
   ]
  },
  {
   "cell_type": "code",
   "execution_count": 11,
   "id": "366c5b12",
   "metadata": {},
   "outputs": [
    {
     "data": {
      "text/plain": [
       "4"
      ]
     },
     "execution_count": 11,
     "metadata": {},
     "output_type": "execute_result"
    }
   ],
   "source": [
    "1-2; 2*2"
   ]
  },
  {
   "cell_type": "code",
   "execution_count": 12,
   "id": "15838536",
   "metadata": {},
   "outputs": [
    {
     "data": {
      "text/plain": [
       "2.5"
      ]
     },
     "execution_count": 12,
     "metadata": {},
     "output_type": "execute_result"
    }
   ],
   "source": [
    "5/2"
   ]
  },
  {
   "cell_type": "code",
   "execution_count": 13,
   "id": "242b9414",
   "metadata": {},
   "outputs": [
    {
     "data": {
      "text/plain": [
       "2.0"
      ]
     },
     "execution_count": 13,
     "metadata": {},
     "output_type": "execute_result"
    }
   ],
   "source": [
    "4/2"
   ]
  },
  {
   "cell_type": "code",
   "execution_count": 14,
   "id": "7cc53ad5",
   "metadata": {},
   "outputs": [
    {
     "data": {
      "text/plain": [
       "2"
      ]
     },
     "execution_count": 14,
     "metadata": {},
     "output_type": "execute_result"
    }
   ],
   "source": [
    "5//2"
   ]
  },
  {
   "cell_type": "code",
   "execution_count": 15,
   "id": "1d5132b1",
   "metadata": {},
   "outputs": [
    {
     "data": {
      "text/plain": [
       "4.77722"
      ]
     },
     "execution_count": 15,
     "metadata": {},
     "output_type": "execute_result"
    }
   ],
   "source": [
    "3.555+1.22222"
   ]
  },
  {
   "cell_type": "code",
   "execution_count": 16,
   "id": "208f0a00",
   "metadata": {},
   "outputs": [
    {
     "data": {
      "text/plain": [
       "4.26"
      ]
     },
     "execution_count": 16,
     "metadata": {},
     "output_type": "execute_result"
    }
   ],
   "source": [
    "3.55*+1.2"
   ]
  },
  {
   "cell_type": "code",
   "execution_count": 17,
   "id": "5edfaea1",
   "metadata": {},
   "outputs": [
    {
     "data": {
      "text/plain": [
       "7.1194"
      ]
     },
     "execution_count": 17,
     "metadata": {},
     "output_type": "execute_result"
    }
   ],
   "source": [
    "0.2467*12+4.159"
   ]
  },
  {
   "cell_type": "code",
   "execution_count": 18,
   "id": "d6369093",
   "metadata": {},
   "outputs": [
    {
     "name": "stdout",
     "output_type": "stream",
     "text": [
      "Hello\n"
     ]
    },
    {
     "data": {
      "text/plain": [
       "'Hello'"
      ]
     },
     "execution_count": 18,
     "metadata": {},
     "output_type": "execute_result"
    }
   ],
   "source": [
    "input()"
   ]
  },
  {
   "cell_type": "code",
   "execution_count": 19,
   "id": "d127fc4e",
   "metadata": {},
   "outputs": [
    {
     "name": "stdout",
     "output_type": "stream",
     "text": [
      "TestTesing now\n"
     ]
    }
   ],
   "source": [
    "x=input('Test')"
   ]
  },
  {
   "cell_type": "code",
   "execution_count": 20,
   "id": "ef4d4f58",
   "metadata": {},
   "outputs": [
    {
     "data": {
      "text/plain": [
       "'Tesing now'"
      ]
     },
     "execution_count": 20,
     "metadata": {},
     "output_type": "execute_result"
    }
   ],
   "source": [
    "x"
   ]
  },
  {
   "cell_type": "code",
   "execution_count": 21,
   "id": "3430a0d7",
   "metadata": {},
   "outputs": [
    {
     "name": "stdout",
     "output_type": "stream",
     "text": [
      "Object `right` not found.\n"
     ]
    }
   ],
   "source": [
    "x += right?"
   ]
  },
  {
   "cell_type": "code",
   "execution_count": null,
   "id": "abcfd535",
   "metadata": {},
   "outputs": [],
   "source": [
    "x += right"
   ]
  },
  {
   "cell_type": "code",
   "execution_count": 22,
   "id": "dfcf16d5",
   "metadata": {},
   "outputs": [
    {
     "data": {
      "text/plain": [
       "'Tesing now'"
      ]
     },
     "execution_count": 22,
     "metadata": {},
     "output_type": "execute_result"
    }
   ],
   "source": [
    "x"
   ]
  },
  {
   "cell_type": "code",
   "execution_count": 23,
   "id": "e2f8730b",
   "metadata": {},
   "outputs": [
    {
     "ename": "TypeError",
     "evalue": "can only concatenate str (not \"int\") to str",
     "output_type": "error",
     "traceback": [
      "\u001b[1;31m---------------------------------------------------------------------------\u001b[0m",
      "\u001b[1;31mTypeError\u001b[0m                                 Traceback (most recent call last)",
      "Input \u001b[1;32mIn [23]\u001b[0m, in \u001b[0;36m<cell line: 1>\u001b[1;34m()\u001b[0m\n\u001b[1;32m----> 1\u001b[0m x \u001b[38;5;241m+\u001b[39m\u001b[38;5;241m=\u001b[39m \u001b[38;5;241m10\u001b[39m\n",
      "\u001b[1;31mTypeError\u001b[0m: can only concatenate str (not \"int\") to str"
     ]
    }
   ],
   "source": [
    "x += 10"
   ]
  },
  {
   "cell_type": "code",
   "execution_count": 24,
   "id": "3ee9d7c4",
   "metadata": {},
   "outputs": [],
   "source": [
    "x += 'right'"
   ]
  },
  {
   "cell_type": "code",
   "execution_count": 25,
   "id": "d5a5679d",
   "metadata": {},
   "outputs": [
    {
     "data": {
      "text/plain": [
       "'Tesing nowright'"
      ]
     },
     "execution_count": 25,
     "metadata": {},
     "output_type": "execute_result"
    }
   ],
   "source": [
    "x"
   ]
  },
  {
   "cell_type": "code",
   "execution_count": 26,
   "id": "eab69926",
   "metadata": {},
   "outputs": [
    {
     "ename": "TypeError",
     "evalue": "unsupported operand type(s) for -=: 'str' and 'str'",
     "output_type": "error",
     "traceback": [
      "\u001b[1;31m---------------------------------------------------------------------------\u001b[0m",
      "\u001b[1;31mTypeError\u001b[0m                                 Traceback (most recent call last)",
      "Input \u001b[1;32mIn [26]\u001b[0m, in \u001b[0;36m<cell line: 1>\u001b[1;34m()\u001b[0m\n\u001b[1;32m----> 1\u001b[0m x \u001b[38;5;241m-\u001b[39m\u001b[38;5;241m=\u001b[39m \u001b[38;5;124m'\u001b[39m\u001b[38;5;124mright\u001b[39m\u001b[38;5;124m'\u001b[39m\n",
      "\u001b[1;31mTypeError\u001b[0m: unsupported operand type(s) for -=: 'str' and 'str'"
     ]
    }
   ],
   "source": [
    "x -= 'right'"
   ]
  },
  {
   "cell_type": "code",
   "execution_count": 27,
   "id": "6747afab",
   "metadata": {},
   "outputs": [],
   "source": [
    "x = 'test'"
   ]
  },
  {
   "cell_type": "code",
   "execution_count": 28,
   "id": "4f61dd37",
   "metadata": {},
   "outputs": [
    {
     "data": {
      "text/plain": [
       "'test'"
      ]
     },
     "execution_count": 28,
     "metadata": {},
     "output_type": "execute_result"
    }
   ],
   "source": [
    "x"
   ]
  },
  {
   "cell_type": "code",
   "execution_count": 29,
   "id": "61798afe",
   "metadata": {},
   "outputs": [
    {
     "name": "stdout",
     "output_type": "stream",
     "text": [
      "1, Test, Hello\n"
     ]
    }
   ],
   "source": [
    "print(1, 'Test', 'Hello', sep=\", \")"
   ]
  },
  {
   "cell_type": "code",
   "execution_count": 1,
   "id": "e42746aa",
   "metadata": {},
   "outputs": [
    {
     "name": "stdout",
     "output_type": "stream",
     "text": [
      "(40881, 3)\n"
     ]
    },
    {
     "data": {
      "text/html": [
       "<div>\n",
       "<style scoped>\n",
       "    .dataframe tbody tr th:only-of-type {\n",
       "        vertical-align: middle;\n",
       "    }\n",
       "\n",
       "    .dataframe tbody tr th {\n",
       "        vertical-align: top;\n",
       "    }\n",
       "\n",
       "    .dataframe thead th {\n",
       "        text-align: right;\n",
       "    }\n",
       "</style>\n",
       "<table border=\"1\" class=\"dataframe\">\n",
       "  <thead>\n",
       "    <tr style=\"text-align: right;\">\n",
       "      <th></th>\n",
       "      <th>place_name</th>\n",
       "      <th>review_id</th>\n",
       "      <th>review_content</th>\n",
       "    </tr>\n",
       "  </thead>\n",
       "  <tbody>\n",
       "    <tr>\n",
       "      <th>0</th>\n",
       "      <td>협재해수욕장</td>\n",
       "      <td>5c99d13b1825f08331533403</td>\n",
       "      <td>뭉게구름과 햇살 아래 맑고 투명한 푸른 바다가 정말 좋아요~</td>\n",
       "    </tr>\n",
       "  </tbody>\n",
       "</table>\n",
       "</div>"
      ],
      "text/plain": [
       "  place_name                 review_id                     review_content\n",
       "0     협재해수욕장  5c99d13b1825f08331533403  뭉게구름과 햇살 아래 맑고 투명한 푸른 바다가 정말 좋아요~"
      ]
     },
     "execution_count": 1,
     "metadata": {},
     "output_type": "execute_result"
    }
   ],
   "source": [
    "import pandas as pd\n",
    "import numpy as np\n",
    "import warnings; warnings.filterwarnings('ignore')\n",
    "import ast\n",
    "\n",
    "from sklearn.metrics.pairwise import cosine_similarity\n",
    "from sklearn.feature_extraction.text import HashingVectorizer\n",
    "from sklearn.feature_extraction.text import CountVectorizer\n",
    "\n",
    "reviews = pd.read_csv('./review_test1.csv', encoding='cp949')\n",
    "print(reviews.shape)\n",
    "reviews.head(1)"
   ]
  },
  {
   "cell_type": "code",
   "execution_count": 2,
   "id": "72702086",
   "metadata": {},
   "outputs": [
    {
     "data": {
      "text/html": [
       "<div>\n",
       "<style scoped>\n",
       "    .dataframe tbody tr th:only-of-type {\n",
       "        vertical-align: middle;\n",
       "    }\n",
       "\n",
       "    .dataframe tbody tr th {\n",
       "        vertical-align: top;\n",
       "    }\n",
       "\n",
       "    .dataframe thead th {\n",
       "        text-align: right;\n",
       "    }\n",
       "</style>\n",
       "<table border=\"1\" class=\"dataframe\">\n",
       "  <thead>\n",
       "    <tr style=\"text-align: right;\">\n",
       "      <th></th>\n",
       "      <th>review_content</th>\n",
       "      <th>place_name</th>\n",
       "    </tr>\n",
       "  </thead>\n",
       "  <tbody>\n",
       "    <tr>\n",
       "      <th>0</th>\n",
       "      <td>뭉게구름과 햇살 아래 맑고 투명한 푸른 바다가 정말 좋아요~</td>\n",
       "      <td>협재해수욕장</td>\n",
       "    </tr>\n",
       "  </tbody>\n",
       "</table>\n",
       "</div>"
      ],
      "text/plain": [
       "                      review_content place_name\n",
       "0  뭉게구름과 햇살 아래 맑고 투명한 푸른 바다가 정말 좋아요~     협재해수욕장"
      ]
     },
     "execution_count": 2,
     "metadata": {},
     "output_type": "execute_result"
    }
   ],
   "source": [
    "reviews_df = reviews[['review_id', 'review_content', 'place_name']]\n",
    "pd.set_option('max_colwidth', 1000)\n",
    "reviews_df[['review_content','place_name']][:1]"
   ]
  },
  {
   "cell_type": "code",
   "execution_count": 5,
   "id": "5e9f2e33",
   "metadata": {},
   "outputs": [],
   "source": [
    "import collections"
   ]
  },
  {
   "cell_type": "code",
   "execution_count": 6,
   "id": "916f35f1",
   "metadata": {},
   "outputs": [
    {
     "data": {
      "text/plain": [
       "True"
      ]
     },
     "execution_count": 6,
     "metadata": {},
     "output_type": "execute_result"
    }
   ],
   "source": [
    "isinstance(reviews_df['review_content'], collections.Iterable)"
   ]
  },
  {
   "cell_type": "code",
   "execution_count": 8,
   "id": "8c81d196",
   "metadata": {},
   "outputs": [
    {
     "name": "stdout",
     "output_type": "stream",
     "text": [
      "<class 'pandas.core.frame.DataFrame'>\n",
      "RangeIndex: 40881 entries, 0 to 40880\n",
      "Data columns (total 3 columns):\n",
      " #   Column          Non-Null Count  Dtype \n",
      "---  ------          --------------  ----- \n",
      " 0   review_id       40804 non-null  object\n",
      " 1   review_content  40013 non-null  object\n",
      " 2   place_name      40804 non-null  object\n",
      "dtypes: object(3)\n",
      "memory usage: 958.3+ KB\n",
      "<class 'pandas.core.frame.DataFrame'>\n",
      "RangeIndex: 40881 entries, 0 to 40880\n",
      "Data columns (total 3 columns):\n",
      " #   Column          Non-Null Count  Dtype \n",
      "---  ------          --------------  ----- \n",
      " 0   review_id       40804 non-null  object\n",
      " 1   review_content  40013 non-null  object\n",
      " 2   place_name      40804 non-null  object\n",
      "dtypes: object(3)\n",
      "memory usage: 958.3+ KB\n",
      "review_id*place_name\n"
     ]
    }
   ],
   "source": [
    "reviews_df.info()\n",
    "#type(('*').join(['review_id', 'place_name']))\n",
    "('*').join(['review_id', 'place_name'])\n",
    "reviews_df.info()\n",
    "reviews_df['review_id'].head(1)\n",
    "reviews_df['place_name'].head(1)\n",
    "reviews_df['review_content'].head(1)\n",
    "print(('*').join(['review_id', 'place_name']))"
   ]
  },
  {
   "cell_type": "code",
   "execution_count": 9,
   "id": "7b9a1db5",
   "metadata": {},
   "outputs": [
    {
     "name": "stdout",
     "output_type": "stream",
     "text": [
      "(40013, 341849)\n",
      "(40013, 40013)\n",
      "[[1. 0. 0. ... 0. 0. 0.]\n",
      " [0. 1. 0. ... 0. 0. 0.]]\n"
     ]
    },
    {
     "ename": "MemoryError",
     "evalue": "Unable to allocate 11.9 GiB for an array with shape (40013, 40013) and data type int64",
     "output_type": "error",
     "traceback": [
      "\u001b[1;31m---------------------------------------------------------------------------\u001b[0m",
      "\u001b[1;31mMemoryError\u001b[0m                               Traceback (most recent call last)",
      "Input \u001b[1;32mIn [9]\u001b[0m, in \u001b[0;36m<cell line: 11>\u001b[1;34m()\u001b[0m\n\u001b[0;32m      8\u001b[0m \u001b[38;5;28mprint\u001b[39m(review_content_sim\u001b[38;5;241m.\u001b[39mshape)\n\u001b[0;32m      9\u001b[0m \u001b[38;5;28mprint\u001b[39m(review_content_sim[:\u001b[38;5;241m2\u001b[39m])\n\u001b[1;32m---> 11\u001b[0m review_content_sim_sorted_ind \u001b[38;5;241m=\u001b[39m \u001b[43mreview_content_sim\u001b[49m\u001b[38;5;241;43m.\u001b[39;49m\u001b[43margsort\u001b[49m\u001b[43m(\u001b[49m\u001b[43m)\u001b[49m[:, ::\u001b[38;5;241m-\u001b[39m\u001b[38;5;241m1\u001b[39m]\n\u001b[0;32m     12\u001b[0m \u001b[38;5;28mprint\u001b[39m(review_content_sim_sorted_ind[:\u001b[38;5;241m1\u001b[39m])\n",
      "\u001b[1;31mMemoryError\u001b[0m: Unable to allocate 11.9 GiB for an array with shape (40013, 40013) and data type int64"
     ]
    }
   ],
   "source": [
    "count_vect = CountVectorizer(min_df=0, ngram_range=(1,2))\n",
    "reviews_df = reviews_df[reviews_df['review_content'].notnull()]\n",
    "review_content_mat = count_vect.fit_transform(reviews_df['review_content'])\n",
    "# review_sim = cosine_similarity(reviews_df['restaurant_name'])\n",
    "print(review_content_mat.shape)\n",
    "\n",
    "review_content_sim = cosine_similarity(review_content_mat, review_content_mat)\n",
    "print(review_content_sim.shape)\n",
    "print(review_content_sim[:2])\n",
    "\n",
    "review_content_sim_sorted_ind = review_content_sim.argsort()[:, ::-1]\n",
    "print(review_content_sim_sorted_ind[:1])"
   ]
  },
  {
   "cell_type": "code",
   "execution_count": 10,
   "id": "dce3716e",
   "metadata": {},
   "outputs": [
    {
     "ename": "MemoryError",
     "evalue": "Unable to allocate 11.9 GiB for an array with shape (40013, 40013) and data type int64",
     "output_type": "error",
     "traceback": [
      "\u001b[1;31m---------------------------------------------------------------------------\u001b[0m",
      "\u001b[1;31mMemoryError\u001b[0m                               Traceback (most recent call last)",
      "Input \u001b[1;32mIn [10]\u001b[0m, in \u001b[0;36m<cell line: 1>\u001b[1;34m()\u001b[0m\n\u001b[1;32m----> 1\u001b[0m review_content_sim_sorted_ind \u001b[38;5;241m=\u001b[39m \u001b[43mreview_content_sim\u001b[49m\u001b[38;5;241;43m.\u001b[39;49m\u001b[43margsort\u001b[49m\u001b[43m(\u001b[49m\u001b[43m)\u001b[49m[:, ::\u001b[38;5;241m-\u001b[39m\u001b[38;5;241m1\u001b[39m]\n\u001b[0;32m      2\u001b[0m \u001b[38;5;28mprint\u001b[39m(review_content_sim_sorted_ind[:\u001b[38;5;241m1\u001b[39m])\n",
      "\u001b[1;31mMemoryError\u001b[0m: Unable to allocate 11.9 GiB for an array with shape (40013, 40013) and data type int64"
     ]
    }
   ],
   "source": [
    "review_content_sim_sorted_ind = review_content_sim.argsort()[:, ::-1]\n",
    "print(review_content_sim_sorted_ind[:1])"
   ]
  },
  {
   "cell_type": "code",
   "execution_count": 11,
   "id": "6d855971",
   "metadata": {},
   "outputs": [
    {
     "ename": "MemoryError",
     "evalue": "Unable to allocate 11.9 GiB for an array with shape (40013, 40013) and data type int64",
     "output_type": "error",
     "traceback": [
      "\u001b[1;31m---------------------------------------------------------------------------\u001b[0m",
      "\u001b[1;31mMemoryError\u001b[0m                               Traceback (most recent call last)",
      "Input \u001b[1;32mIn [11]\u001b[0m, in \u001b[0;36m<cell line: 1>\u001b[1;34m()\u001b[0m\n\u001b[1;32m----> 1\u001b[0m review_content_sim_sorted_ind \u001b[38;5;241m=\u001b[39m \u001b[43mreview_content_sim\u001b[49m\u001b[38;5;241;43m.\u001b[39;49m\u001b[43margsort\u001b[49m\u001b[43m(\u001b[49m\u001b[43m)\u001b[49m[:, ::\u001b[38;5;241m-\u001b[39m\u001b[38;5;241m1\u001b[39m]\n\u001b[0;32m      2\u001b[0m \u001b[38;5;28mprint\u001b[39m(review_content_sim_sorted_ind[:\u001b[38;5;241m1\u001b[39m])\n",
      "\u001b[1;31mMemoryError\u001b[0m: Unable to allocate 11.9 GiB for an array with shape (40013, 40013) and data type int64"
     ]
    }
   ],
   "source": [
    "review_content_sim_sorted_ind = review_content_sim.argsort()[:, ::-1]\n",
    "print(review_content_sim_sorted_ind[:1])"
   ]
  },
  {
   "cell_type": "code",
   "execution_count": null,
   "id": "0da24305",
   "metadata": {},
   "outputs": [],
   "source": []
  }
 ],
 "metadata": {
  "kernelspec": {
   "display_name": "Python 3 (ipykernel)",
   "language": "python",
   "name": "python3"
  },
  "language_info": {
   "codemirror_mode": {
    "name": "ipython",
    "version": 3
   },
   "file_extension": ".py",
   "mimetype": "text/x-python",
   "name": "python",
   "nbconvert_exporter": "python",
   "pygments_lexer": "ipython3",
   "version": "3.9.13"
  }
 },
 "nbformat": 4,
 "nbformat_minor": 5
}
